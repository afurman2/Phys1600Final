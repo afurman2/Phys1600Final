{
 "cells": [
  {
   "cell_type": "markdown",
   "id": "talented-brazilian",
   "metadata": {},
   "source": [
    "## Experiment 1: Ion Barrier Mesh Retardation Potential\n",
    "\n",
    "This experiment computes the voltage that must be applied to a given ion barrier mesh configuration in order to prevent any particles from being transmitted."
   ]
  },
  {
   "cell_type": "code",
   "execution_count": 1,
   "id": "scenic-consultancy",
   "metadata": {},
   "outputs": [],
   "source": [
    "%matplotlib notebook\n",
    "%load_ext autoreload\n",
    "%autoreload 2\n",
    "import libem\n",
    "import numpy as np\n",
    "from libvis import Visualizations\n",
    "import matplotlib.pyplot as plt\n",
    "\n",
    "from components import *"
   ]
  },
  {
   "cell_type": "markdown",
   "id": "enabling-award",
   "metadata": {},
   "source": [
    "**Global Configuration**"
   ]
  },
  {
   "cell_type": "code",
   "execution_count": 3,
   "id": "signal-reggae",
   "metadata": {},
   "outputs": [],
   "source": [
    "def generate_barrier_space(V_out=1, V_in=-1, grate_dist=0.5, grate_sp=0.2, th=0.05, scale=30):\n",
    "    sim = libem.EMSimulationSpace3D(space_size=(2, 2, 2), top_left=(-1, -1, -1), scale=scale)\n",
    "    sim.compute(make_enforcer(\n",
    "        enf(EMObjects.planar_mesh_3d, (grate_dist, -0.8, -0.8), 0, (0.1, 1.6, 1.6), (grate_sp, grate_sp), th, V_out),\n",
    "        enf(EMObjects.planar_mesh_3d, (0, -0.8, -0.8), 0, (0.1, 1.6, 1.6), (grate_sp, grate_sp), th, V_in),\n",
    "        enf(EMObjects.planar_mesh_3d, (-grate_dist, -0.8, -0.8), 0, (0.1, 1.6, 1.6), (grate_sp, grate_sp), th, V_out),\n",
    "    ))\n",
    "    sim.get_efield()\n",
    "    return sim\n",
    "\n",
    "TIME = 3\n",
    "NPARTICLES = 10\n",
    "particle_opts = {\n",
    "    \"mass\": (1, 0),\n",
    "    \"charge\": (1, 0),\n",
    "    \"initial_loc\": ((0.9, 0, 0), (0, 0, 0)),\n",
    "    \"initial_v\": ((-1, 0, 0), (0.2, 0.05, 0.05)),\n",
    "    \"bounce_coef\": 1\n",
    "}"
   ]
  },
  {
   "cell_type": "markdown",
   "id": "competitive-company",
   "metadata": {},
   "source": [
    "**Dependence on Voltage**"
   ]
  },
  {
   "cell_type": "code",
   "execution_count": null,
   "id": "adequate-messaging",
   "metadata": {},
   "outputs": [],
   "source": [
    "voltage_range = np.arange(0.1, 0.55, 0.05)\n",
    "passthrough_percent = np.array(spacing_range.shape)\n",
    "\n",
    "for i, spacing in np.ndenumerate(spacing_range):\n",
    "    sim = generate_barrier_space()"
   ]
  },
  {
   "cell_type": "markdown",
   "id": "theoretical-welsh",
   "metadata": {},
   "source": [
    "**Dependence on Grate Spacing**"
   ]
  },
  {
   "cell_type": "code",
   "execution_count": null,
   "id": "local-uruguay",
   "metadata": {},
   "outputs": [],
   "source": [
    "spacing_range = np.arange(0.1, 0.55, 0.05)\n",
    "passthrough_percent = np.array(spacing_range.shape)\n",
    "\n",
    "for i, spacing in np.ndenumerate(spacing_range):\n",
    "    sim = generate_barrier_space()"
   ]
  }
 ],
 "metadata": {
  "kernelspec": {
   "display_name": "Python 3",
   "language": "python",
   "name": "python3"
  },
  "language_info": {
   "codemirror_mode": {
    "name": "ipython",
    "version": 3
   },
   "file_extension": ".py",
   "mimetype": "text/x-python",
   "name": "python",
   "nbconvert_exporter": "python",
   "pygments_lexer": "ipython3",
   "version": "3.8.5"
  }
 },
 "nbformat": 4,
 "nbformat_minor": 5
}
