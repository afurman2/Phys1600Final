{
 "cells": [
  {
   "cell_type": "code",
   "execution_count": 3,
   "id": "statewide-nebraska",
   "metadata": {},
   "outputs": [
    {
     "name": "stdout",
     "output_type": "stream",
     "text": [
      "The autoreload extension is already loaded. To reload it, use:\n",
      "  %reload_ext autoreload\n"
     ]
    }
   ],
   "source": [
    "%matplotlib inline\n",
    "%load_ext autoreload\n",
    "%autoreload 2\n",
    "import libem\n",
    "import numpy as np\n",
    "from libvis import Visualizations\n",
    "import matplotlib.pyplot as plt\n",
    "\n",
    "from components import *"
   ]
  },
  {
   "cell_type": "code",
   "execution_count": 103,
   "id": "through-scheduling",
   "metadata": {},
   "outputs": [
    {
     "name": "stdout",
     "output_type": "stream",
     "text": [
      "Computed in 100 iterations.\n",
      "Done.\n"
     ]
    }
   ],
   "source": [
    "sim = libem.EMSimulationSpace3D(space_size=(2, 2, 2), top_left=(-1, -1, -1), scale=15)\n",
    "    \n",
    "sim.compute(make_enforcer(\n",
    "    enf(EMObjects.point_charge, (0, 0, 0), 10)\n",
    "))\n",
    "sim.get_efield()\n",
    "print(\"Done.\")"
   ]
  },
  {
   "cell_type": "code",
   "execution_count": null,
   "id": "representative-license",
   "metadata": {},
   "outputs": [],
   "source": [
    "m1 = libem.ChargedParticle3D(sim, 0.1, -10, (-0.75, 0.75, 0.5), (0, 0, 0))\n",
    "trange = np.linspace(0, 10, 300)\n",
    "m1.compute_motion(trange)\n",
    "\n",
    "fig = plt.figure(figsize=(10, 10))\n",
    "ax = plt.axes(projection=\"3d\")\n",
    "\n",
    "Visualizations.colormesh_3d(sim, size=(8, 8), resolution=1, color_norm=1, graph_ax=ax)\n",
    "Visualizations.trajectory_3d(m1.time, m1.position, graph_ax=ax)\n",
    "\n",
    "plt.show()"
   ]
  },
  {
   "cell_type": "code",
   "execution_count": 107,
   "id": "pacific-apparel",
   "metadata": {},
   "outputs": [
    {
     "data": {
      "text/plain": [
       "0.06666666666666667"
      ]
     },
     "execution_count": 107,
     "metadata": {},
     "output_type": "execute_result"
    }
   ],
   "source": [
    "1 / sim.scale"
   ]
  },
  {
   "cell_type": "code",
   "execution_count": null,
   "id": "champion-congo",
   "metadata": {},
   "outputs": [],
   "source": []
  }
 ],
 "metadata": {
  "kernelspec": {
   "display_name": "Python 3",
   "language": "python",
   "name": "phys1600"
  },
  "language_info": {
   "codemirror_mode": {
    "name": "ipython",
    "version": 3
   },
   "file_extension": ".py",
   "mimetype": "text/x-python",
   "name": "python",
   "nbconvert_exporter": "python",
   "pygments_lexer": "ipython3",
   "version": "3.8.6"
  }
 },
 "nbformat": 4,
 "nbformat_minor": 5
}
