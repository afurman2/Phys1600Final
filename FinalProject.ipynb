{
 "cells": [
  {
   "cell_type": "code",
   "execution_count": 2,
   "id": "statewide-nebraska",
   "metadata": {},
   "outputs": [],
   "source": [
    "%matplotlib inline\n",
    "%load_ext autoreload\n",
    "%autoreload 2\n",
    "import libem\n",
    "import numpy as np\n",
    "from libvis import Visualizations\n",
    "import matplotlib.pyplot as plt\n",
    "\n",
    "from components import *"
   ]
  },
  {
   "cell_type": "code",
   "execution_count": 47,
   "id": "through-scheduling",
   "metadata": {},
   "outputs": [
    {
     "name": "stdout",
     "output_type": "stream",
     "text": [
      "Computed in 730 iterations.\n",
      "Done.\n"
     ]
    }
   ],
   "source": [
    "sim = libem.EMSimulationSpace3D(space_size=(2, 2, 2), top_left=(-1, -1, -1), scale=20)\n",
    "sim.compute(make_enforcer(\n",
    "    enf(EMObjects.planar_mesh_3d, (-0.8, -0.8, 0), 2, (1.6, 1.6, 0.1), (0.2, 0.2), 0.1, 1)\n",
    "))\n",
    "sim.get_efield()\n",
    "print(\"Done.\")"
   ]
  },
  {
   "cell_type": "code",
   "execution_count": null,
   "id": "consecutive-steam",
   "metadata": {},
   "outputs": [],
   "source": []
  }
 ],
 "metadata": {
  "kernelspec": {
   "display_name": "Python 3",
   "language": "python",
   "name": "python3"
  },
  "language_info": {
   "codemirror_mode": {
    "name": "ipython",
    "version": 3
   },
   "file_extension": ".py",
   "mimetype": "text/x-python",
   "name": "python",
   "nbconvert_exporter": "python",
   "pygments_lexer": "ipython3",
   "version": "3.8.5"
  }
 },
 "nbformat": 4,
 "nbformat_minor": 5
}
